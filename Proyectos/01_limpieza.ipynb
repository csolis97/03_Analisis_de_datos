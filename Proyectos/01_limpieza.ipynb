{
 "cells": [
  {
   "cell_type": "markdown",
   "metadata": {},
   "source": [
    "### Limpieza del dataset Police_Arrests_20240702\n",
    "En este notebook \"01_limpeza\" se ejecutan codigos para limpiar en función de los hallazgos del notebook anterior \"00_exploracion\".  \n",
    "\n",
    "**Se buscará**\n",
    "- `Validar tipos de datos`\n",
    "- `Limpiar valores en blanco`\n",
    "- `Filtrar edades`\n",
    "- `Agregar nuevas variables de interes en función de las existentes`"
   ]
  },
  {
   "cell_type": "code",
   "execution_count": 1,
   "metadata": {},
   "outputs": [],
   "source": [
    "# Importo librerias de python\n",
    "import pandas as pd\n",
    "import matplotlib.pyplot as plt"
   ]
  },
  {
   "cell_type": "code",
   "execution_count": 2,
   "metadata": {},
   "outputs": [],
   "source": [
    "# Declaro el dataframe a usar\n",
    "eccomerce_sales =r'C:\\Users\\Administrador\\OneDrive - udd.cl\\Python para la ciencia de datos\\proyecto_final\\Data\\Police_Arrests_20240702.csv'\n",
    "df = pd.read_csv(eccomerce_sales)"
   ]
  },
  {
   "cell_type": "code",
   "execution_count": 3,
   "metadata": {},
   "outputs": [
    {
     "name": "stdout",
     "output_type": "stream",
     "text": [
      "<class 'pandas.core.frame.DataFrame'>\n",
      "RangeIndex: 23510 entries, 0 to 23509\n",
      "Data columns (total 10 columns):\n",
      " #   Column                  Non-Null Count  Dtype  \n",
      "---  ------                  --------------  -----  \n",
      " 0   ID Reference Number     23510 non-null  int64  \n",
      " 1   Subject's race          23510 non-null  object \n",
      " 2   Subject's gender        23510 non-null  object \n",
      " 3   Subject's age           23510 non-null  int64  \n",
      " 4   Ethnicity               23510 non-null  object \n",
      " 5   District of occurrence  23408 non-null  float64\n",
      " 6   Adjacent to School      23510 non-null  int64  \n",
      " 7   Assigned Division       23381 non-null  object \n",
      " 8   Assigned Bureau         18851 non-null  object \n",
      " 9   Event Date/Time         23510 non-null  object \n",
      "dtypes: float64(1), int64(3), object(6)\n",
      "memory usage: 1.8+ MB\n",
      "None\n"
     ]
    }
   ],
   "source": [
    "# Tipo de variables iniciales del dataframe y valores nulos\n",
    "info = df.info()\n",
    "print(info)\n"
   ]
  },
  {
   "cell_type": "code",
   "execution_count": 13,
   "metadata": {},
   "outputs": [
    {
     "name": "stdout",
     "output_type": "stream",
     "text": [
      "<class 'pandas.core.frame.DataFrame'>\n",
      "RangeIndex: 23510 entries, 0 to 23509\n",
      "Data columns (total 10 columns):\n",
      " #   Column                  Non-Null Count  Dtype         \n",
      "---  ------                  --------------  -----         \n",
      " 0   ID Reference Number     23510 non-null  int64         \n",
      " 1   Subject's race          23510 non-null  object        \n",
      " 2   Subject's gender        23510 non-null  object        \n",
      " 3   Subject's age           23510 non-null  int64         \n",
      " 4   Ethnicity               23510 non-null  object        \n",
      " 5   District of occurrence  23408 non-null  float64       \n",
      " 6   Adjacent to School      23510 non-null  int64         \n",
      " 7   Assigned Division       23381 non-null  object        \n",
      " 8   Assigned Bureau         18851 non-null  object        \n",
      " 9   Event Date/Time         23510 non-null  datetime64[ns]\n",
      "dtypes: datetime64[ns](1), float64(1), int64(3), object(5)\n",
      "memory usage: 1.8+ MB\n",
      "None\n"
     ]
    }
   ],
   "source": [
    "# Modifico tipo de variable de \"Event Date/Time\"\n",
    "df['Event Date/Time'] = pd.to_datetime(df['Event Date/Time'])\n",
    "# Tipo de variables iniciales del dataframe y valores nulos\n",
    "info = df.info()\n",
    "print(info)"
   ]
  },
  {
   "cell_type": "code",
   "execution_count": 14,
   "metadata": {},
   "outputs": [
    {
     "name": "stdout",
     "output_type": "stream",
     "text": [
      "El dataframe inicial tiene 23510 filas.\n",
      "Se filtraron 4735 filas por concepto de nulos.\n",
      "Se filtraron 2458 filas por concepto de edad.\n",
      "El nuevo dataframe tiene 16317 filas.\n",
      "<class 'pandas.core.frame.DataFrame'>\n",
      "Index: 16317 entries, 0 to 23509\n",
      "Data columns (total 10 columns):\n",
      " #   Column                  Non-Null Count  Dtype         \n",
      "---  ------                  --------------  -----         \n",
      " 0   ID Reference Number     16317 non-null  int64         \n",
      " 1   Subject's race          16317 non-null  object        \n",
      " 2   Subject's gender        16317 non-null  object        \n",
      " 3   Subject's age           16317 non-null  int64         \n",
      " 4   Ethnicity               16317 non-null  object        \n",
      " 5   District of occurrence  16317 non-null  float64       \n",
      " 6   Adjacent to School      16317 non-null  int64         \n",
      " 7   Assigned Division       16317 non-null  object        \n",
      " 8   Assigned Bureau         16317 non-null  object        \n",
      " 9   Event Date/Time         16317 non-null  datetime64[ns]\n",
      "dtypes: datetime64[ns](1), float64(1), int64(3), object(5)\n",
      "memory usage: 1.4+ MB\n",
      "None\n"
     ]
    },
    {
     "data": {
      "image/png": "[encoded data removed]",
      "text/plain": [
       "<Figure size 640x480 with 1 Axes>"
      ]
     },
     "metadata": {},
     "output_type": "display_data"
    },
    {
     "name": "stdout",
     "output_type": "stream",
     "text": [
      "count    16317.000000\n",
      "mean        34.083287\n",
      "std         12.139814\n",
      "min         18.000000\n",
      "25%         25.000000\n",
      "50%         32.000000\n",
      "75%         41.000000\n",
      "max         80.000000\n",
      "Name: Subject's age, dtype: float64\n"
     ]
    }
   ],
   "source": [
    "# Elimino filas con valores en blanco\n",
    "cantidad_inicial = len(df)\n",
    "print(f\"El dataframe inicial tiene {cantidad_inicial} filas.\")\n",
    "df_sin_nulos = df.dropna()\n",
    "cantidad_df_sin_nulos = len(df_sin_nulos)\n",
    "cantidad_nulos = cantidad_inicial - cantidad_df_sin_nulos\n",
    "print(f\"Se filtraron {cantidad_nulos} filas por concepto de nulos.\")\n",
    "# Filtro edades menor a 80 y mayor a 18\n",
    "cantidad_inicial_2 = len(df_sin_nulos)\n",
    "df_limpio = df_sin_nulos.loc[(df_sin_nulos[\"Subject's age\"] <= 80) & (df_sin_nulos[\"Subject's age\"] >= 18)]\n",
    "cantidad_filtrada = len(df_limpio)\n",
    "cantidad_df_limpio = cantidad_inicial_2 - cantidad_filtrada\n",
    "print(f\"Se filtraron {cantidad_df_limpio} filas por concepto de edad.\")\n",
    "print(f\"El nuevo dataframe tiene {cantidad_filtrada} filas.\")\n",
    "\n",
    "#Verifico nuevo \"n\" del dataframe\n",
    "info = df_limpio.info()\n",
    "print(info)\n",
    "\n",
    "# Creo histograma para verificar cambios en edad\n",
    "plt.hist(df_limpio[\"Subject's age\"], bins=df['ID Reference Number '].nunique(), edgecolor='black')\n",
    "plt.xlabel('Edad')\n",
    "plt.ylabel('Frecuencia')\n",
    "plt.title('Histograma de Edades')\n",
    "plt.grid(True)\n",
    "plt.show()\n",
    "\n",
    "# Verifico nuevos estadísticos de edad\n",
    "age_stats = df_limpio[\"Subject's age\"].describe()\n",
    "print(age_stats)\n",
    "\n"
   ]
  },
  {
   "cell_type": "markdown",
   "metadata": {},
   "source": [
    "**Limpieza inicial realizada**  \n",
    "Se eliminaron valores en blanco, se filtro la variable correspondiente a la edad del sujeto por valores atipicos,por lo cual, se verificaron nuevos estadisticos de la variable filtrada \"Subject's age\"\n",
    "\n",
    "\n",
    "**Filtrado de datos:**  \n",
    "Se detalla el balance de datos filtrados:\n",
    "\n",
    "| Cantidad de datos      | N             |\n",
    "|------------------------|---------------|\n",
    "| Dataframe Inicial      | 23.510        |\n",
    "| Filtrados              | 7.193         |\n",
    "| Dataframe limpio       | 16.317        |\n",
    "\n",
    "**Cambios en variable númerica \"Subject's age\":**  \n",
    "| Estadística | DF Inicial| DF Limpio   |\n",
    "|-------------|-----------|-------------|\n",
    "| count       | 23510     | 16317       |\n",
    "| mean        | 31.813143 | 34.083287   |\n",
    "| std         | 12.946909 | 12.139814   |\n",
    "| min         | 1         | 18          | \n",
    "| 25%         | 22        | 25          |\n",
    "| 50%         | 30        | 32          |\n",
    "| 75%         | 39        | 41          |\n",
    "| max         | 99        | 80          |\n"
   ]
  },
  {
   "cell_type": "markdown",
   "metadata": {},
   "source": [
    "\n",
    "**Finalizamos la limpieza del df**"
   ]
  }
 ],
 "metadata": {
  "kernelspec": {
   "display_name": "proyecto_final",
   "language": "python",
   "name": "python3"
  },
  "language_info": {
   "codemirror_mode": {
    "name": "ipython",
    "version": 3
   },
   "file_extension": ".py",
   "mimetype": "text/x-python",
   "name": "python",
   "nbconvert_exporter": "python",
   "pygments_lexer": "ipython3",
   "version": "3.11.9"
  }
 },
 "nbformat": 4,
 "nbformat_minor": 2
}
