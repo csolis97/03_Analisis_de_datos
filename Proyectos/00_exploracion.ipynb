{
 "cells": [
  {
   "cell_type": "markdown",
   "metadata": {},
   "source": [
    "### Descripción del archivo\n",
    "En este notebook \"00_exploracion\" se ejecutan codigos para dar respuesta a la exploración inicial del dataset a elección para el proyecto final"
   ]
  },
  {
   "cell_type": "code",
   "execution_count": 1,
   "metadata": {},
   "outputs": [],
   "source": [
    "# Importo librerias de python\n",
    "import pandas as pd\n",
    "import matplotlib.pyplot as plt"
   ]
  },
  {
   "cell_type": "code",
   "execution_count": 2,
   "metadata": {},
   "outputs": [],
   "source": [
    "# Declaro el dataframe a usar\n",
    "eccomerce_sales =r'C:\\Users\\Administrador\\OneDrive - udd.cl\\Python para la ciencia de datos\\proyecto_final\\Data\\Police_Arrests_20240702.csv'\n",
    "df = pd.read_csv(eccomerce_sales)"
   ]
  },
  {
   "cell_type": "code",
   "execution_count": 3,
   "metadata": {},
   "outputs": [
    {
     "name": "stdout",
     "output_type": "stream",
     "text": [
      "Tamaño del DataFrame: (23510, 10)\n",
      "Las  10 variables del DF son:  ['ID Reference Number ', \"Subject's race\", \"Subject's gender\", \"Subject's age\", 'Ethnicity', 'District of occurrence', 'Adjacent to School', 'Assigned Division', 'Assigned Bureau', 'Event Date/Time']\n",
      "<class 'pandas.core.frame.DataFrame'>\n",
      "RangeIndex: 23510 entries, 0 to 23509\n",
      "Data columns (total 10 columns):\n",
      " #   Column                  Non-Null Count  Dtype  \n",
      "---  ------                  --------------  -----  \n",
      " 0   ID Reference Number     23510 non-null  int64  \n",
      " 1   Subject's race          23510 non-null  object \n",
      " 2   Subject's gender        23510 non-null  object \n",
      " 3   Subject's age           23510 non-null  int64  \n",
      " 4   Ethnicity               23510 non-null  object \n",
      " 5   District of occurrence  23408 non-null  float64\n",
      " 6   Adjacent to School      23510 non-null  int64  \n",
      " 7   Assigned Division       23381 non-null  object \n",
      " 8   Assigned Bureau         18851 non-null  object \n",
      " 9   Event Date/Time         23510 non-null  object \n",
      "dtypes: float64(1), int64(3), object(6)\n",
      "memory usage: 1.8+ MB\n",
      "None\n",
      "\n",
      "Columnas con valores faltantes:\n",
      "['District of occurrence', 'Assigned Division', 'Assigned Bureau']\n",
      "\n",
      "Total de valores nulos por columna:\n",
      "District of occurrence     102\n",
      "Assigned Division          129\n",
      "Assigned Bureau           4659\n"
     ]
    }
   ],
   "source": [
    "# Desripción incial del DF\n",
    "print(\"Tamaño del DataFrame:\", df.shape)\n",
    "n_columnas=df.shape[1]\n",
    "print(\"Las \",(n_columnas),\"variables del DF son: \",df.columns.values.tolist())\n",
    "\n",
    "# Tipo de variables y valores nulos\n",
    "info = df.info()\n",
    "print(info)\n",
    "\n",
    "# Se identifico que no todas tienen el mismo \"n\", por ende, verifico las variables con valores nulos\n",
    "valores_nulos = df.isnull() | df.eq('')\n",
    "columnas_con_nulos = valores_nulos.any(axis=0)\n",
    "print(\"\\nColumnas con valores faltantes:\")\n",
    "print(columnas_con_nulos[columnas_con_nulos].index.tolist())\n",
    "\n",
    "# Calculo el total de valores nulos por columna\n",
    "total_nulos_por_columna = df.isnull().sum()\n",
    "columnas_con_nulos = total_nulos_por_columna[total_nulos_por_columna > 0]\n",
    "print(\"\\nTotal de valores nulos por columna:\")\n",
    "print(columnas_con_nulos.to_string())\n"
   ]
  },
  {
   "cell_type": "code",
   "execution_count": 4,
   "metadata": {},
   "outputs": [
    {
     "name": "stdout",
     "output_type": "stream",
     "text": [
      "\n",
      "Número de duplicados en ID Reference Number: 0\n"
     ]
    }
   ],
   "source": [
    "\n",
    "# Verifico si hay duplicados en la columna que registra\n",
    "duplicados = df[df.duplicated(subset=['ID Reference Number '], keep=False)]\n",
    "num_duplicados = len(df) - len(df.drop_duplicates(subset=['ID Reference Number ']))\n",
    "print(f\"\\nNúmero de duplicados en ID Reference Number: {num_duplicados}\")\n"
   ]
  },
  {
   "cell_type": "markdown",
   "metadata": {},
   "source": [
    "### Descripción del dataset Police_Arrests_20240702\n",
    "Este dataset contiene datos caracteristicos de los individuos arrestados por la policía en una ubicación geografica especifica, con 23.510 registros y 10 variables  \n",
    "\n",
    "**a) Variables:**\n",
    "- `1.-ID Reference Number`\n",
    "- `2.-Subject's race`\n",
    "- `3.-Subject's gender`\n",
    "- `4.-Subject's age`\n",
    "- `5.-Ethnicity`\n",
    "- `6.-District of occurrence`\n",
    "- `7.-Adjacent to School`\n",
    "- `8.-Assigned Division`\n",
    "- `9.-Assigned Bureau`\n",
    "- `10.-Event Date/Time`\n",
    "\n",
    "**b) Caracterización incial:**  \n",
    "Es un dataframe con 3 tipos de variables: float64(1), int64(3), object(6)  \n",
    "Desde el punto de vista  la analitica, de las 10 variables, siete variables  describen el evento mediante categorias, posee una variable númerica, referida a la edad del sujeto, una variable temporal almacenada como objeto que indica cuando ocurrio el evento, y la restante, es el identificador del evento,\n",
    "\n",
    "**c) Valores nulos:**\n",
    "Se identificaron valores faltantes o nulos en tres variables:\n",
    "\n",
    "| Variable               | Valores nulos |\n",
    "|------------------------|---------------|\n",
    "| District of occurrence | 102           |\n",
    "| Assigned Division      | 129           |\n",
    "| Assigned Bureau        | 4659          |\n",
    "\n",
    "**d) Identificador:**  \n",
    "Se valido que no se poseen registros con valores nulos o duplicados"
   ]
  },
  {
   "cell_type": "code",
   "execution_count": 5,
   "metadata": {},
   "outputs": [
    {
     "name": "stdout",
     "output_type": "stream",
     "text": [
      "   ID Reference Number           Subject's race Subject's gender  \\\n",
      "0                     1                   Asian             Male   \n",
      "1                     2  Black/African American             Male   \n",
      "2                     3  Black/African American             Male   \n",
      "3                     4  Black/African American             Male   \n",
      "4                     5                   White           Female   \n",
      "\n",
      "   Subject's age     Ethnicity  District of occurrence  Adjacent to School  \\\n",
      "0             43  NON-HISPANIC                     6.0                   0   \n",
      "1             23  NON-HISPANIC                     1.0                   0   \n",
      "2             18  NON-HISPANIC                     1.0                   0   \n",
      "3             21  NON-HISPANIC                     1.0                   0   \n",
      "4             38      HISPANIC                     4.0                   0   \n",
      "\n",
      "  Assigned Division Assigned Bureau Event Date/Time  \n",
      "0               TOD             FSB   1/1/2021 1:07  \n",
      "1              RCPD             NaN   1/1/2021 0:52  \n",
      "2              RCPD             NaN   1/1/2021 0:52  \n",
      "3              RCPD             NaN   1/1/2021 0:52  \n",
      "4               TOD             FSB   1/1/2021 3:00  \n"
     ]
    }
   ],
   "source": [
    "# Verifico las primeras filas para entender la estructura del las variables dataset\n",
    "print(df.head())"
   ]
  },
  {
   "cell_type": "code",
   "execution_count": 7,
   "metadata": {},
   "outputs": [
    {
     "name": "stdout",
     "output_type": "stream",
     "text": [
      "- Los 6 posibles valores para Subject's race son: ['Asian' 'Black/African American' 'White' 'Unknown'\n",
      " 'American Indian/ALSK Natv' 'Hawaiian/Pacific Islander']\n",
      "- Los 2 posibles valores para Subject's gender son: ['Male' 'Female']\n",
      "- Los 2 posibles valores para Ethnicity son: ['NON-HISPANIC' 'HISPANIC']\n",
      "- Los 8 posibles valores para District of occurrence son: [ 6.  1.  4.  3.  5.  2.  8. nan]\n",
      "- Los 2 posibles valores para Adjacent to School son: [0 1]\n",
      "- Los 25 posibles valores para Assigned Division son: ['TOD' 'RCPD' 'TPPD' 'GPD' '4D' '3D' '5D' '6D' 'IMTD' '2D' '1D' 'SVID'\n",
      " 'CID' 'MCFM' 'SID' 'PSTA' nan 'MCSO' 'MCD' 'SOD' 'CED' 'PSCC' 'FSB'\n",
      " 'PERS' 'ISB']\n",
      "- Los 5 posibles valores para Assigned Bureau son: ['FSB' nan 'PSB' 'MSB' 'ISB']\n"
     ]
    }
   ],
   "source": [
    "# Verifico los posibles valores para las variables categoricas\n",
    "variables = [\"Subject's race\",\"Subject's gender\", 'Ethnicity', 'District of occurrence',\n",
    "             'Adjacent to School', 'Assigned Division', 'Assigned Bureau']\n",
    "\n",
    "\n",
    "for var in variables:\n",
    "    valores_unicos = df[var].unique()\n",
    "    cantidad_valores = len(valores_unicos)\n",
    "    print(f\"- Los {cantidad_valores} posibles valores para {var} son: {valores_unicos}\")"
   ]
  },
  {
   "cell_type": "markdown",
   "metadata": {},
   "source": [
    "### Descripción del dataset Police_Arrests_20240702\n",
    "\n",
    "**e) Descripción de variables categóricas:**  \n",
    "De las variables para categorizar se describe sus valores  \n",
    "| Variable                | Posibles Valores                                                                                   | Número de Valores Únicos |\n",
    "|-------------------------|----------------------------------------------------------------------------------------------------|--------------------------|\n",
    "| Subject's race          | ['Asian' 'Black/African American' 'White' 'Unknown' 'American Indian/ALSK Natv' 'Hawaiian/Pacific Islander'] | 6                        |\n",
    "| Subject's gender        | ['Male' 'Female']                                                                                 | 2                        |\n",
    "| Ethnicity               | ['NON-HISPANIC' 'HISPANIC']                                                                       | 2                        |\n",
    "| District of occurrence  | [6. 1. 4. 3. 5. 2. 8. nan]                                                                        | 8                        |\n",
    "| Adjacent to School      | [0 1]                                                                                             | 2                        |\n",
    "| Assigned Division       | ['TOD' 'RCPD' ... 'FSB']                                                                          | 25                       |\n",
    "| Assigned Bureau         | ['FSB' nan 'PSB' 'MSB' 'ISB']                                                                     | 5                        |\n",
    "\n",
    "\n",
    "\n",
    "**esto considera valores nulos*05"
   ]
  },
  {
   "cell_type": "code",
   "execution_count": 8,
   "metadata": {},
   "outputs": [
    {
     "data": {
      "image/png": "[encoded data removed]",
      "text/plain": [
       "<Figure size 640x480 with 1 Axes>"
      ]
     },
     "metadata": {},
     "output_type": "display_data"
    },
    {
     "name": "stdout",
     "output_type": "stream",
     "text": [
      "count    23510.000000\n",
      "mean        31.813143\n",
      "std         12.946909\n",
      "min          1.000000\n",
      "25%         22.000000\n",
      "50%         30.000000\n",
      "75%         39.000000\n",
      "max         99.000000\n",
      "Name: Subject's age, dtype: float64\n"
     ]
    }
   ],
   "source": [
    "# Verifico distribución de edad mediante histograma\n",
    "plt.hist(df[\"Subject's age\"], bins=df['ID Reference Number '].nunique(), edgecolor='black')\n",
    "plt.xlabel('Edad')\n",
    "plt.ylabel('Frecuencia')\n",
    "plt.title('Histograma de Edades')\n",
    "plt.grid(True)\n",
    "\n",
    "# Mostrar el gráfico\n",
    "plt.show()\n",
    "\n",
    "# Estadísticos descriptivos\n",
    "edad = df[\"Subject's age\"].describe()\n",
    "print(edad)"
   ]
  },
  {
   "cell_type": "markdown",
   "metadata": {},
   "source": [
    "### Descripción del dataset Police_Arrests_20240702\n",
    "\n",
    "**f) Descripción para variable númerica:**  \n",
    "La unica variable númerica es la edad y se distribuye de la siguiente manera: \n",
    " \n",
    "| Estadística | Valor     |\n",
    "|-------------|-----------|\n",
    "| count       | 23510     |\n",
    "| mean        | 31.813143 |\n",
    "| std         | 12.946909 |\n",
    "| min         | 1         |\n",
    "| 25%         | 22        |\n",
    "| 50%         | 30        |\n",
    "| 75%         | 39        |\n",
    "| max         | 99        |\n",
    "\n",
    "**posee un valor minimo con posible error a tener \"1\" año de edad\" y el maximo debiese ser determinado en función de las leyes del pais pero una edad de 99 causa sospecha de error"
   ]
  },
  {
   "cell_type": "code",
   "execution_count": 10,
   "metadata": {},
   "outputs": [
    {
     "name": "stdout",
     "output_type": "stream",
     "text": [
      "El DataFrame tiene un total de registros de 1277 días entre la fecha máxima y la fecha mínima.\n",
      "Año máximo: 2024\n",
      "Año mínimo: 2021\n"
     ]
    }
   ],
   "source": [
    "# Calcular la temporalidad del df\n",
    "fecha = pd.to_datetime(df['Event Date/Time'])\n",
    "diferencia = fecha.max() - fecha.min()\n",
    "dias = diferencia.days\n",
    "max_year = fecha.max().year\n",
    "min_year = fecha.min().year\n",
    "print(f\"El DataFrame tiene un total de registros de {dias} días entre la fecha máxima y la fecha mínima.\")\n",
    "print(f\"Año máximo: {max_year}\")\n",
    "print(f\"Año mínimo: {min_year}\")"
   ]
  },
  {
   "cell_type": "markdown",
   "metadata": {},
   "source": [
    "### Descripción del dataset Police_Arrests_20240702\n",
    "\n",
    "**g) Descripción para variable númerica:**  \n",
    "El año minimo es 2021 y maximo 2024, posee 1277 días entre la fecha máxima y la fecha minima"
   ]
  },
  {
   "cell_type": "markdown",
   "metadata": {},
   "source": [
    "### Descripción del dataset Police_Arrests_20240702\n",
    "\n",
    "**h) Decripción final de variables:**\n",
    "- `1.-ID Reference Number`: es el identificador de cada caso policial\n",
    "- `2.-Subject's race`: corresponde a la \"raza\" del individuo \n",
    "- `3.-Subject's gender`: genero almacenado de manera \"binario\" \n",
    "- `4.-Subject's age`: Años de edad\n",
    "- `5.-Ethnicity`: caracteriza si es hispano o no\n",
    "- `6.-District of occurrence`: Lugar donde ocurrio\n",
    "- `7.-Adjacent to School`: corresponde a si es cerca de un establecimiento educacional\n",
    "- `8.-Assigned Division` : la división que tomo el caso\n",
    "- `9.-Assigned Bureau`: la oficina que tomo el caso\n",
    "- `10.-Event Date/Time`: la fecha del suceso\n",
    "\n",
    "**i) Conclusines:**\n",
    "Se sugiere filtrar la edad por el caso de datos con edad menora 18 años y eliminar datos vacios de las tres variables que se identificaron para continuar con los analisis"
   ]
  }
 ],
 "metadata": {
  "kernelspec": {
   "display_name": "Python 3",
   "language": "python",
   "name": "python3"
  },
  "language_info": {
   "codemirror_mode": {
    "name": "ipython",
    "version": 3
   },
   "file_extension": ".py",
   "mimetype": "text/x-python",
   "name": "python",
   "nbconvert_exporter": "python",
   "pygments_lexer": "ipython3",
   "version": "3.11.9"
  }
 },
 "nbformat": 4,
 "nbformat_minor": 2
}
