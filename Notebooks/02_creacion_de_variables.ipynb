{
 "cells": [
  {
   "cell_type": "markdown",
   "metadata": {},
   "source": [
    "### Creación de variables para el dataset Police_Arrests_20240702\n",
    "En este notebook \"02_creacion_de_variables\" se ejecutan codigos para agregar nuevas variables en función de las variables ya existentes al \"df_limpio\" resultante del notebook \"01_limpieza\"\n",
    "\n",
    "**Se buscará**\n",
    "- `Agregar nuevas variables de temporalidad`\n",
    "- `Agregar nueva variable de segmentación`"
   ]
  },
  {
   "cell_type": "code",
   "execution_count": 1,
   "metadata": {},
   "outputs": [],
   "source": [
    "# Importo librerias de python\n",
    "import pandas as pd\n",
    "import matplotlib.pyplot as plt"
   ]
  },
  {
   "cell_type": "code",
   "execution_count": 2,
   "metadata": {},
   "outputs": [],
   "source": [
    "# Declaro el dataframe a usar\n",
    "eccomerce_sales =r'C:\\Users\\Administrador\\OneDrive - udd.cl\\Python para la ciencia de datos\\proyecto_final\\Data\\Police_Arrests_20240702.csv'\n",
    "df = pd.read_csv(eccomerce_sales)"
   ]
  },
  {
   "cell_type": "code",
   "execution_count": 3,
   "metadata": {},
   "outputs": [
    {
     "name": "stdout",
     "output_type": "stream",
     "text": [
      "El dataframe inicial tiene 23510 filas.\n",
      "Se filtraron 4735 filas por concepto de nulos.\n",
      "Se filtraron 2458 filas por concepto de edad.\n",
      "El nuevo dataframe tiene 16317 filas.\n"
     ]
    }
   ],
   "source": [
    "# Modifico tipo de variable de \"Event Date/Time\"\n",
    "df['Event Date/Time'] = pd.to_datetime(df['Event Date/Time'])\n",
    "# Elimino filas con valores en blanco\n",
    "cantidad_inicial = len(df)\n",
    "print(f\"El dataframe inicial tiene {cantidad_inicial} filas.\")\n",
    "df_sin_nulos = df.dropna()\n",
    "cantidad_df_sin_nulos = len(df_sin_nulos)\n",
    "cantidad_nulos = cantidad_inicial - cantidad_df_sin_nulos\n",
    "print(f\"Se filtraron {cantidad_nulos} filas por concepto de nulos.\")\n",
    "# Filtro edades menor a 80 y mayor a 18\n",
    "cantidad_inicial_2 = len(df_sin_nulos)\n",
    "df_limpio= df_sin_nulos.loc[(df_sin_nulos[\"Subject's age\"] <= 80) & (df_sin_nulos[\"Subject's age\"] >= 18)]\n",
    "cantidad_filtrada = len(df_limpio)\n",
    "cantidad_df_limpio = cantidad_inicial_2 - cantidad_filtrada\n",
    "print(f\"Se filtraron {cantidad_df_limpio} filas por concepto de edad.\")\n",
    "print(f\"El nuevo dataframe tiene {cantidad_filtrada} filas.\")"
   ]
  },
  {
   "cell_type": "code",
   "execution_count": 4,
   "metadata": {},
   "outputs": [
    {
     "name": "stderr",
     "output_type": "stream",
     "text": [
      "C:\\Users\\Administrador\\AppData\\Local\\Temp\\ipykernel_3260\\341872467.py:2: SettingWithCopyWarning: \n",
      "A value is trying to be set on a copy of a slice from a DataFrame.\n",
      "Try using .loc[row_indexer,col_indexer] = value instead\n",
      "\n",
      "See the caveats in the documentation: https://pandas.pydata.org/pandas-docs/stable/user_guide/indexing.html#returning-a-view-versus-a-copy\n",
      "  df_limpio['Year'] = df_limpio['Event Date/Time'].dt.year\n",
      "C:\\Users\\Administrador\\AppData\\Local\\Temp\\ipykernel_3260\\341872467.py:3: SettingWithCopyWarning: \n",
      "A value is trying to be set on a copy of a slice from a DataFrame.\n",
      "Try using .loc[row_indexer,col_indexer] = value instead\n",
      "\n",
      "See the caveats in the documentation: https://pandas.pydata.org/pandas-docs/stable/user_guide/indexing.html#returning-a-view-versus-a-copy\n",
      "  df_limpio['Month'] = df_limpio['Event Date/Time'].dt.month\n",
      "C:\\Users\\Administrador\\AppData\\Local\\Temp\\ipykernel_3260\\341872467.py:4: SettingWithCopyWarning: \n",
      "A value is trying to be set on a copy of a slice from a DataFrame.\n",
      "Try using .loc[row_indexer,col_indexer] = value instead\n",
      "\n",
      "See the caveats in the documentation: https://pandas.pydata.org/pandas-docs/stable/user_guide/indexing.html#returning-a-view-versus-a-copy\n",
      "  df_limpio['Week'] = df_limpio['Event Date/Time'].dt.isocalendar().week\n",
      "C:\\Users\\Administrador\\AppData\\Local\\Temp\\ipykernel_3260\\341872467.py:5: SettingWithCopyWarning: \n",
      "A value is trying to be set on a copy of a slice from a DataFrame.\n",
      "Try using .loc[row_indexer,col_indexer] = value instead\n",
      "\n",
      "See the caveats in the documentation: https://pandas.pydata.org/pandas-docs/stable/user_guide/indexing.html#returning-a-view-versus-a-copy\n",
      "  df_limpio['Weekday'] = df_limpio['Event Date/Time'].dt.day_name()\n"
     ]
    }
   ],
   "source": [
    "# Agrego columnas para año, mes, semana y día de la semana\n",
    "df_limpio['Year'] = df_limpio['Event Date/Time'].dt.year\n",
    "df_limpio['Month'] = df_limpio['Event Date/Time'].dt.month\n",
    "df_limpio['Week'] = df_limpio['Event Date/Time'].dt.isocalendar().week\n",
    "df_limpio['Weekday'] = df_limpio['Event Date/Time'].dt.day_name()"
   ]
  },
  {
   "cell_type": "code",
   "execution_count": 5,
   "metadata": {},
   "outputs": [
    {
     "name": "stdout",
     "output_type": "stream",
     "text": [
      "<class 'pandas.core.frame.DataFrame'>\n",
      "Index: 16317 entries, 0 to 23509\n",
      "Data columns (total 15 columns):\n",
      " #   Column                  Non-Null Count  Dtype         \n",
      "---  ------                  --------------  -----         \n",
      " 0   ID Reference Number     16317 non-null  int64         \n",
      " 1   Subject's race          16317 non-null  object        \n",
      " 2   Subject's gender        16317 non-null  object        \n",
      " 3   Subject's age           16317 non-null  int64         \n",
      " 4   Ethnicity               16317 non-null  object        \n",
      " 5   District of occurrence  16317 non-null  float64       \n",
      " 6   Adjacent to School      16317 non-null  int64         \n",
      " 7   Assigned Division       16317 non-null  object        \n",
      " 8   Assigned Bureau         16317 non-null  object        \n",
      " 9   Event Date/Time         16317 non-null  datetime64[ns]\n",
      " 10  Year                    16317 non-null  int32         \n",
      " 11  Month                   16317 non-null  int32         \n",
      " 12  Week                    16317 non-null  UInt32        \n",
      " 13  Weekday                 16317 non-null  object        \n",
      " 14  AgeGroup                16317 non-null  category      \n",
      "dtypes: UInt32(1), category(1), datetime64[ns](1), float64(1), int32(2), int64(3), object(6)\n",
      "memory usage: 1.7+ MB\n",
      "None\n"
     ]
    },
    {
     "name": "stderr",
     "output_type": "stream",
     "text": [
      "C:\\Users\\Administrador\\AppData\\Local\\Temp\\ipykernel_3260\\1458699901.py:4: SettingWithCopyWarning: \n",
      "A value is trying to be set on a copy of a slice from a DataFrame.\n",
      "Try using .loc[row_indexer,col_indexer] = value instead\n",
      "\n",
      "See the caveats in the documentation: https://pandas.pydata.org/pandas-docs/stable/user_guide/indexing.html#returning-a-view-versus-a-copy\n",
      "  df_limpio['AgeGroup'] = pd.cut(df_limpio[\"Subject's age\"], bins=bins, labels=labels, right=False)\n"
     ]
    }
   ],
   "source": [
    "# Creo una nueva columna 'AgeGroup' con las categorías de edad en función de \"Subject's age\"\n",
    "bins = [18, 30, 50, float('inf')]\n",
    "labels = ['Adulto joven', 'Adulto maduro', 'Adulto mayor']\n",
    "df_limpio['AgeGroup'] = pd.cut(df_limpio[\"Subject's age\"], bins=bins, labels=labels, right=False)\n",
    "\n",
    "# Verifico agregación de variables al df_limpio\n",
    "info = df_limpio.info()\n",
    "print(info)"
   ]
  },
  {
   "cell_type": "code",
   "execution_count": 6,
   "metadata": {},
   "outputs": [
    {
     "name": "stdout",
     "output_type": "stream",
     "text": [
      "- Los 4 posibles valores para Year son: [2021 2022 2023 2024]\n",
      "- Los 12 posibles valores para Month son: [ 1  2  3  4  5  6  7  8  9 10 11 12]\n",
      "- Los 53 posibles valores para Week son: <IntegerArray>\n",
      "[53,  1,  2,  3,  4,  5,  6,  7,  8,  9, 10, 11, 12, 13, 14, 15, 16, 17, 18,\n",
      " 19, 20, 21, 22, 23, 24, 25, 26, 27, 28, 29, 30, 31, 32, 33, 34, 35, 36, 37,\n",
      " 38, 39, 40, 41, 42, 43, 44, 45, 46, 47, 48, 49, 50, 51, 52]\n",
      "Length: 53, dtype: UInt32\n",
      "- Los 7 posibles valores para Weekday son: ['Friday' 'Saturday' 'Sunday' 'Monday' 'Tuesday' 'Wednesday' 'Thursday']\n",
      "- Los 3 posibles valores para AgeGroup son: ['Adulto maduro', 'Adulto joven', 'Adulto mayor']\n",
      "Categories (3, object): ['Adulto joven' < 'Adulto maduro' < 'Adulto mayor']\n"
     ]
    }
   ],
   "source": [
    "# Vertifico los posibles valores para las variables nuevas variables agredas\n",
    "variables = ['Year', 'Month',\n",
    "             'Week', 'Weekday', 'AgeGroup']\n",
    "\n",
    "\n",
    "for var in variables:\n",
    "    valores_unicos = df_limpio[var].unique()\n",
    "    cantidad_valores = len(valores_unicos)\n",
    "    print(f\"- Los {cantidad_valores} posibles valores para {var} son: {valores_unicos}\")"
   ]
  },
  {
   "cell_type": "markdown",
   "metadata": {},
   "source": [
    "**Descripción del nuevas varialbes incorporadas al df_limpio**\n",
    "\n",
    "- `1.-Year`: es el año del suceso basado en Event Date/Time  \n",
    "- `2.-Month`: es el mes del suceso basado en Event Date/Time\n",
    "- `3.-Week`: es la semana del suceso basado en Event Date/Time\n",
    "- `4.-Week Day`: es el día de la semana del suceso basado en Event Date/Time\n",
    "- `5.-'AgeGroup'`: Corresponde a una categorización de edad en tres niveles\n",
    "\n",
    "**Finalizamos la creación de nuevas variables al df_limpio**"
   ]
  }
 ],
 "metadata": {
  "kernelspec": {
   "display_name": "proyecto_final",
   "language": "python",
   "name": "python3"
  },
  "language_info": {
   "codemirror_mode": {
    "name": "ipython",
    "version": 3
   },
   "file_extension": ".py",
   "mimetype": "text/x-python",
   "name": "python",
   "nbconvert_exporter": "python",
   "pygments_lexer": "ipython3",
   "version": "3.11.9"
  }
 },
 "nbformat": 4,
 "nbformat_minor": 2
}
