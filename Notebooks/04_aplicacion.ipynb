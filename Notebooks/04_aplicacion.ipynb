{
 "cells": [
  {
   "cell_type": "markdown",
   "metadata": {},
   "source": [
    "### Aplicación practica del dataset Police_Arrests_20240702\n",
    "En este notebook \"04_aplicación\" se detalla propuesta de aplicación clara y detallada utilizando los hallzasgos del notebook \"03_visualizaciones\""
   ]
  },
  {
   "cell_type": "markdown",
   "metadata": {},
   "source": [
    "### Recordando los principales hallazgos \n",
    "-La división que ha tenido `más casos históricamente es la \"3D\"`, pero, para el `año en curso la división \"4D\"` es la que posee actualmente más casos asignados.  \n",
    "\n",
    "-Se logro identificar que, solo el `3.6%` de los casos son cercanos a establecimientos educacionales, la `\"raza\" modal` de los casos corresponden a `\"White\"`, con `edad media` de `32` años, y una `distribución` mayoritariamente  `menor o cercana a la media muestral` de la división 4D en 2023. \n"
   ]
  },
  {
   "cell_type": "markdown",
   "metadata": {},
   "source": [
    "### Se detalla propuesta de aplicación\n",
    "\n",
    "- `Optimización de recursos:`  \n",
    "    Dado que constamente se incorporan nuevos agentes policiales, se puede tomar la decisión de distribuir el nuevo personal en función de las oficinas con mayores casos, históricamente \"3D\" y para 2024 \"4D\". \n",
    "    Tambien se pueden redistribuir los OPEX y CAPEX asignados de los fondos policiales en función de los casos, para otorgar, nuevos proyectos o renovación de equipamiento a las oficinas más relevantes para la policia.  \n",
    "\n",
    "- `Caracterizar perfiles de sospechosos:`  \n",
    "     Dado que se pudo extraer un perfil que caracteriza los casos del oficina 4D, se puede otorgar esta información a los agentes para el patrullaje, tiendo atención al perfil \"tipico\" de los casos.  \n",
    "     Tambien, se puede extrapolar para las otras divisiones policiales.\n",
    "\n",
    "- `Mejora de la seguridad pública:`  \n",
    "     Dado que se graficaron las tendencias historicas de delitos, se puede utilizar esta información, para predecir la cantidad de casos futuros, y con esto, responder de manera proactiva a los patrullajes.  \n",
    "\n"
   ]
  },
  {
   "cell_type": "markdown",
   "metadata": {},
   "source": [
    "### ¿Cómo se implementaría la propuesta en un contexto real?\n",
    "\n",
    "Se requeriría colaboración interdepartamental y comunicación efectiva, para que, el departamento de operaciones, tome las consideraciones dada por el área de analitica, y puedan iterar para verificar si las consideraciones dada dismunyen los casos policiales o requiren reajustes, y con esto, velar por la mejora continua en la identificación de sospechosos.\n",
    "\n",
    "Se asume, que los departamentos policiales tienen las mismas herramientas tecnologicas y los procesos estandarizados para el registro de casos, dado que esto podria ser una limitante, una oficina menos digitalizada podria quedar fuera de las asignaciones netamente por tener \"menor\" cantidad de casos, pero la realidad tenga otra situación.\n",
    "\n",
    "Igualmente, un desafio con la toma de decisión en un contexto real unicamente con esta información, dado que aplica esta información solo aplica a una sección de la información, no todos los casos policiales son \"culpables\", por lo cual, se debe tener consideración con la \"caracterización de perfiles de sospechosos\" dado que se puede sesgar los sospechosos con casos no \"culpables\" y que afecten a una raza o rango etario en particular.\n",
    "\n",
    "\n",
    "Sin embargo, dentro de los beneficios más significativos de utilizar los datos de casos policiales es mejorar la seguridad pública, y por consecuencia, puede llevar a mejorar los indeces de seguridad para la población."
   ]
  }
 ],
 "metadata": {
  "language_info": {
   "name": "python"
  }
 },
 "nbformat": 4,
 "nbformat_minor": 2
}
